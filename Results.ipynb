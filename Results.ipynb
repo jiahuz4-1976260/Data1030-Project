{
 "cells": [
  {
   "cell_type": "code",
   "execution_count": 4,
   "id": "d0aceab9-9f49-490b-8af9-1fe9d3e6741b",
   "metadata": {},
   "outputs": [
    {
     "ename": "NameError",
     "evalue": "name 'loaded_data' is not defined",
     "output_type": "error",
     "traceback": [
      "\u001b[0;31m---------------------------------------------------------------------------\u001b[0m",
      "\u001b[0;31mNameError\u001b[0m                                 Traceback (most recent call last)",
      "Cell \u001b[0;32mIn[4], line 6\u001b[0m\n\u001b[1;32m      3\u001b[0m     data \u001b[38;5;241m=\u001b[39m pickle\u001b[38;5;241m.\u001b[39mload(file)\n\u001b[1;32m      5\u001b[0m \u001b[38;5;66;03m# Extracting models and accuracies\u001b[39;00m\n\u001b[0;32m----> 6\u001b[0m RF_model_loaded \u001b[38;5;241m=\u001b[39m \u001b[43mloaded_data\u001b[49m[\u001b[38;5;124m'\u001b[39m\u001b[38;5;124mRF_model\u001b[39m\u001b[38;5;124m'\u001b[39m]\n\u001b[1;32m      7\u001b[0m RF_accuracy_loaded \u001b[38;5;241m=\u001b[39m loaded_data[\u001b[38;5;124m'\u001b[39m\u001b[38;5;124mRF_accuracy\u001b[39m\u001b[38;5;124m'\u001b[39m]\n\u001b[1;32m      8\u001b[0m SVM_model_loaded \u001b[38;5;241m=\u001b[39m loaded_data[\u001b[38;5;124m'\u001b[39m\u001b[38;5;124mSVM_model\u001b[39m\u001b[38;5;124m'\u001b[39m]\n",
      "\u001b[0;31mNameError\u001b[0m: name 'loaded_data' is not defined"
     ]
    }
   ],
   "source": [
    "import pickle\n",
    "with open('best_models_and_scores.pkl', 'rb') as file:\n",
    "    data = pickle.load(file)\n",
    "\n",
    "# Extracting models and accuracies\n",
    "RF_model_loaded = loaded_data['RF_model']\n",
    "RF_accuracy_loaded = loaded_data['RF_accuracy']\n",
    "SVM_model_loaded = loaded_data['SVM_model']\n",
    "SVM_accuracy_loaded = loaded_data['SVM_accuracy']\n",
    "XGBoost_model_loaded = loaded_data['XGBoost_model']\n",
    "XGBoost_accuracy_loaded = loaded_data['XGBoost_accuracy']\n",
    "KNN_model_loaded = loaded_data['KNN_model']\n",
    "KNN_accuracy_loaded = loaded_data['KNN_accuracy']"
   ]
  },
  {
   "cell_type": "code",
   "execution_count": 3,
   "id": "7e7d9320-3aae-4a3a-aea8-4968c4fbaabc",
   "metadata": {},
   "outputs": [
    {
     "name": "stdout",
     "output_type": "stream",
     "text": [
      "Pipeline(steps=[('columntransformer',\n",
      "                 ColumnTransformer(transformers=[('onehot',\n",
      "                                                  OneHotEncoder(handle_unknown='ignore',\n",
      "                                                                sparse_output=False),\n",
      "                                                  ['gender', 'hypertension',\n",
      "                                                   'heart_disease',\n",
      "                                                   'ever_married', 'work_type',\n",
      "                                                   'Residence_type',\n",
      "                                                   'smoking_status']),\n",
      "                                                 ('minmax', MinMaxScaler(),\n",
      "                                                  ['age']),\n",
      "                                                 ('std', StandardScaler(),\n",
      "                                                  ['avg_glucose_level',\n",
      "                                                   'bmi'])])),\n",
      "                ('randomforestclassifier',\n",
      "                 RandomForestClassifier(max_depth=10, min_samples_leaf=2,\n",
      "                                        min_samples_split=5, n_estimators=50,\n",
      "                                        random_state=42))])\n"
     ]
    }
   ],
   "source": [
    "print(RF_model)"
   ]
  },
  {
   "cell_type": "code",
   "execution_count": null,
   "id": "ee352c3a-96b6-4b5a-92e7-46e1fa0e239d",
   "metadata": {},
   "outputs": [],
   "source": []
  }
 ],
 "metadata": {
  "kernelspec": {
   "display_name": "Python 3 (ipykernel)",
   "language": "python",
   "name": "python3"
  },
  "language_info": {
   "codemirror_mode": {
    "name": "ipython",
    "version": 3
   },
   "file_extension": ".py",
   "mimetype": "text/x-python",
   "name": "python",
   "nbconvert_exporter": "python",
   "pygments_lexer": "ipython3",
   "version": "3.11.4"
  }
 },
 "nbformat": 4,
 "nbformat_minor": 5
}
